{
 "cells": [
  {
   "cell_type": "code",
   "execution_count": 31,
   "metadata": {},
   "outputs": [],
   "source": [
    "import torch\n",
    "from torchvision import datasets, transforms\n",
    "from torch.utils.data import DataLoader\n",
    "import torch.nn.functional as F\n",
    "import torch.nn as nn\n",
    "import torch.optim as optim"
   ]
  },
  {
   "cell_type": "markdown",
   "metadata": {},
   "source": [
    "数据集准备"
   ]
  },
  {
   "cell_type": "code",
   "execution_count": 32,
   "metadata": {},
   "outputs": [],
   "source": [
    "batch_size = 64  # 设置批处理大小\n",
    "transform = transforms.Compose([transforms.ToTensor(), transforms.Normalize((0.1307,), (0.3081,))])  # 定义数据预处理流程\n",
    "\n",
    "train_dataset = datasets.MNIST(root='../datasets', train=True, download=True, transform=transform)  # 加载MNIST训练数据集\n",
    "train_loader = DataLoader(train_dataset, batch_size=batch_size, shuffle=True)  # 创建训练数据加载器\n",
    "\n",
    "test_dataset = datasets.MNIST(root='../datasets', train=False, download=True, transform=transform)  # 加载MNIST测试数据集\n",
    "test_loader = DataLoader(test_dataset, batch_size=batch_size, shuffle=False)  # 创建测试数据加载器"
   ]
  },
  {
   "cell_type": "markdown",
   "metadata": {},
   "source": [
    "定义模型"
   ]
  },
  {
   "cell_type": "code",
   "execution_count": 33,
   "metadata": {},
   "outputs": [],
   "source": [
    "class Model(nn.Module):\n",
    "    def __init__(self):\n",
    "        super(Model, self).__init__()\n",
    "        # 定义第一个全连接层，输入维度为784，输出维度为512\n",
    "        self.fc1 = nn.Linear(784, 512)\n",
    "        # 定义第二个全连接层，输入维度为512，输出维度为256\n",
    "        self.fc2 = nn.Linear(512, 256)\n",
    "        # 定义第三个全连接层，输入维度为256，输出维度为128\n",
    "        self.fc3 = nn.Linear(256, 128)\n",
    "        # 定义第四个全连接层，输入维度为128，输出维度为64\n",
    "        self.fc4 = nn.Linear(128, 64)\n",
    "        # 定义第五个全连接层，输入维度为64，输出维度为10\n",
    "        self.fc5 = nn.Linear(64, 10)\n",
    "\n",
    "    def forward(self, x):\n",
    "        x = x.view(-1, 784)\n",
    "        x = F.relu(self.fc1(x))\n",
    "        x = F.relu(self.fc2(x))\n",
    "        x = F.relu(self.fc3(x))\n",
    "        x = F.relu(self.fc4(x))\n",
    "        return self.fc5(x)\n",
    "    \n",
    "\n"
   ]
  },
  {
   "cell_type": "markdown",
   "metadata": {},
   "source": [
    "创建模型、损失函数、优化器"
   ]
  },
  {
   "cell_type": "code",
   "execution_count": 34,
   "metadata": {},
   "outputs": [],
   "source": [
    "model = Model()\n",
    "\n",
    "criterion = nn.CrossEntropyLoss()\n",
    "optimizer = optim.SGD(model.parameters(), lr=0.01, momentum=0.5)"
   ]
  },
  {
   "cell_type": "markdown",
   "metadata": {},
   "source": [
    "定义训练和预测方法"
   ]
  },
  {
   "cell_type": "code",
   "execution_count": 35,
   "metadata": {},
   "outputs": [],
   "source": [
    "def train(epoch):\n",
    "    running_loss = 0.0\n",
    "    for batch_index, data in enumerate(train_loader, 0):\n",
    "        inputs, labels = data\n",
    "        optimizer.zero_grad()\n",
    "\n",
    "        # 正向传播\n",
    "        outputs = model(inputs)\n",
    "        # 计算损失\n",
    "        loss = criterion(outputs, labels)\n",
    "        # 反向传播\n",
    "        loss.backward()\n",
    "        # 更新参数\n",
    "        optimizer.step()\n",
    "\n",
    "        # 打印300批的累计损失\n",
    "        running_loss += loss.item()\n",
    "        if batch_index % 300 == 299:\n",
    "            print('[%d, %5d] loss: %.3f' % (epoch + 1, batch_index + 1, running_loss / 300))\n",
    "            running_loss = 0.0\n",
    "\n",
    "def test():\n",
    "    correct = 0\n",
    "    total = 0\n",
    "    with torch.no_grad():\n",
    "        for data in test_loader:\n",
    "            images, labels = data\n",
    "            outputs = model(images)\n",
    "\n",
    "            # 获取模型输出的最大值索引，用于预测类别，忽略掉最大值只获取最大值对应的索引\n",
    "            _,predicted = torch.max(outputs.data, 1)\n",
    "\n",
    "            # 统计预测正确的个数\n",
    "            total += labels.size(0)\n",
    "            correct += (predicted == labels).sum().item()\n",
    "\n",
    "    print('Accuracy of the network on the 10000 test images: %d %%' % (100 * correct / total))\n"
   ]
  },
  {
   "cell_type": "markdown",
   "metadata": {},
   "source": [
    "训练和预测"
   ]
  },
  {
   "cell_type": "code",
   "execution_count": 36,
   "metadata": {},
   "outputs": [
    {
     "name": "stdout",
     "output_type": "stream",
     "text": [
      "[1,   300] loss: 2.206\n",
      "[1,   600] loss: 0.912\n",
      "[1,   900] loss: 0.429\n",
      "Accuracy of the network on the 10000 test images: 89 %\n",
      "[2,   300] loss: 0.325\n",
      "[2,   600] loss: 0.269\n",
      "[2,   900] loss: 0.234\n",
      "Accuracy of the network on the 10000 test images: 93 %\n",
      "[3,   300] loss: 0.193\n",
      "[3,   600] loss: 0.175\n",
      "[3,   900] loss: 0.151\n",
      "Accuracy of the network on the 10000 test images: 95 %\n",
      "[4,   300] loss: 0.125\n",
      "[4,   600] loss: 0.132\n",
      "[4,   900] loss: 0.116\n",
      "Accuracy of the network on the 10000 test images: 96 %\n",
      "[5,   300] loss: 0.098\n",
      "[5,   600] loss: 0.096\n",
      "[5,   900] loss: 0.094\n",
      "Accuracy of the network on the 10000 test images: 96 %\n"
     ]
    }
   ],
   "source": [
    "for i in range(5):\n",
    "    train(i)\n",
    "    test()\n",
    "        "
   ]
  }
 ],
 "metadata": {
  "kernelspec": {
   "display_name": "py38",
   "language": "python",
   "name": "py38"
  },
  "language_info": {
   "codemirror_mode": {
    "name": "ipython",
    "version": 3
   },
   "file_extension": ".py",
   "mimetype": "text/x-python",
   "name": "python",
   "nbconvert_exporter": "python",
   "pygments_lexer": "ipython3",
   "version": "3.8.19"
  }
 },
 "nbformat": 4,
 "nbformat_minor": 2
}
